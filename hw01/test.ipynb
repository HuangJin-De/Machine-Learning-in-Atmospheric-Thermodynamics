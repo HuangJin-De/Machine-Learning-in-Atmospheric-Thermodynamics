{
  "nbformat": 4,
  "nbformat_minor": 0,
  "metadata": {
    "colab": {
      "provenance": [],
      "toc_visible": true,
      "mount_file_id": "https://github.com/HuangJin-De/Machine-Learning-in-Atmospheric-Thermodynamics/blob/main/hw01/test.ipynb",
      "authorship_tag": "ABX9TyMzR77xRc9n6BrUC1OiNYFV",
      "include_colab_link": true
    },
    "kernelspec": {
      "name": "python3",
      "display_name": "Python 3"
    },
    "language_info": {
      "name": "python"
    },
    "accelerator": "GPU"
  },
  "cells": [
    {
      "cell_type": "markdown",
      "metadata": {
        "id": "view-in-github",
        "colab_type": "text"
      },
      "source": [
        "<a href=\"https://colab.research.google.com/github/HuangJin-De/Machine-Learning-in-Atmospheric-Thermodynamics/blob/main/hw01/test.ipynb\" target=\"_parent\"><img src=\"https://colab.research.google.com/assets/colab-badge.svg\" alt=\"Open In Colab\"/></a>"
      ]
    },
    {
      "cell_type": "code",
      "execution_count": 1,
      "metadata": {
        "colab": {
          "base_uri": "https://localhost:8080/"
        },
        "id": "WicZZg_Da8MG",
        "outputId": "9664192f-ef39-45ca-a9a4-78bc5c70b5ff"
      },
      "outputs": [
        {
          "output_type": "execute_result",
          "data": {
            "text/plain": [
              "True"
            ]
          },
          "metadata": {},
          "execution_count": 1
        }
      ],
      "source": [
        "import torch\n",
        "import numpy as np\n",
        "\n",
        "# test whether torch is available\n",
        "# if not, you could apply GPU by turn on it in Edit->Notebook Settings in the control bar\n",
        "torch.cuda.is_available()\n",
        "\n",
        "\n"
      ]
    },
    {
      "cell_type": "code",
      "source": [
        "print('Hi, Shao-Yu')\n",
        "\n"
      ],
      "metadata": {
        "id": "C_H8FkaWdIs7",
        "colab": {
          "base_uri": "https://localhost:8080/"
        },
        "outputId": "59519484-fe25-47c7-8301-54a26057d6f9"
      },
      "execution_count": 8,
      "outputs": [
        {
          "output_type": "stream",
          "name": "stdout",
          "text": [
            "Hi, Shao-Yu\n"
          ]
        }
      ]
    },
    {
      "cell_type": "markdown",
      "source": [
        "# 新增區段"
      ],
      "metadata": {
        "id": "InSmEkwugzwf"
      }
    }
  ]
}