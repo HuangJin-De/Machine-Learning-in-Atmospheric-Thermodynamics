{
  "nbformat": 4,
  "nbformat_minor": 0,
  "metadata": {
    "colab": {
      "provenance": [],
      "collapsed_sections": [],
      "authorship_tag": "ABX9TyO/rVjIjZk0K/0lvKCPXMlD",
      "include_colab_link": true
    },
    "kernelspec": {
      "name": "python3",
      "display_name": "Python 3"
    },
    "language_info": {
      "name": "python"
    }
  },
  "cells": [
    {
      "cell_type": "markdown",
      "metadata": {
        "id": "view-in-github",
        "colab_type": "text"
      },
      "source": [
        "<a href=\"https://colab.research.google.com/github/HuangJin-De/Machine-Learning-in-Atmospheric-Thermodynamics/blob/master/hw02-2/hw02-2.ipynb\" target=\"_parent\"><img src=\"https://colab.research.google.com/assets/colab-badge.svg\" alt=\"Open In Colab\"/></a>"
      ]
    },
    {
      "cell_type": "code",
      "source": [
        "from requests import get\n",
        "\n",
        "dates=['20180114','20200109']\n",
        "stns=['47918','47909','47945']\n",
        "\n",
        "for stn in stns:\n",
        "  for date in dates:\n",
        "    yr=date[0:4]\n",
        "    mo=date[4:6]\n",
        "    da=date[6:8]+'00'\n",
        "    if stn=='47909' and date=='20200109':\n",
        "      da=date[6:8]+'12'\n",
        "    \n",
        "    url='https://weather.uwyo.edu/cgi-bin/sounding?region=seasia&TYPE=TEXT%3ALIST&YEAR='+yr\\\n",
        "            +'&MONTH='+mo+'&FROM='+da+'&TO='+da+'&STNM='+stn\n",
        "    print(url)\n",
        "  \n",
        "    web=get(url,verify=False)\n",
        "    a=web.text.splitlines()\n",
        "\n",
        "    m=0\n",
        "    with open(stn+'_'+date+'.txt','w') as f:\n",
        "      for i in range(0,len(a)):\n",
        "        if a[i][0:10]=='----------':\n",
        "          m=1\n",
        "        if a[i]=='</PRE><H3>Station information and sounding indices</H3><PRE>':\n",
        "          m=0\n",
        "        if m==1:\n",
        "          #print(a[i])\n",
        "          f.write(a[i]+'\\n')\n",
        "\n",
        "! rm -rf Machine-Learning-in-Atmospheric-Thermodynamics\n",
        "! git clone https://github.com/HuangJin-De/Machine-Learning-in-Atmospheric-Thermodynamics.git "
      ],
      "metadata": {
        "id": "x9hcwec3GK_D",
        "colab": {
          "base_uri": "https://localhost:8080/"
        },
        "outputId": "adbb123d-a119-4d49-afbd-83e22a7cb0f2"
      },
      "execution_count": 47,
      "outputs": [
        {
          "output_type": "stream",
          "name": "stdout",
          "text": [
            "https://weather.uwyo.edu/cgi-bin/sounding?region=seasia&TYPE=TEXT%3ALIST&YEAR=2018&MONTH=01&FROM=1400&TO=1400&STNM=47918\n"
          ]
        },
        {
          "output_type": "stream",
          "name": "stderr",
          "text": [
            "/usr/local/lib/python3.7/dist-packages/urllib3/connectionpool.py:847: InsecureRequestWarning: Unverified HTTPS request is being made. Adding certificate verification is strongly advised. See: https://urllib3.readthedocs.io/en/latest/advanced-usage.html#ssl-warnings\n",
            "  InsecureRequestWarning)\n"
          ]
        },
        {
          "output_type": "stream",
          "name": "stdout",
          "text": [
            "https://weather.uwyo.edu/cgi-bin/sounding?region=seasia&TYPE=TEXT%3ALIST&YEAR=2020&MONTH=01&FROM=0900&TO=0900&STNM=47918\n"
          ]
        },
        {
          "output_type": "stream",
          "name": "stderr",
          "text": [
            "/usr/local/lib/python3.7/dist-packages/urllib3/connectionpool.py:847: InsecureRequestWarning: Unverified HTTPS request is being made. Adding certificate verification is strongly advised. See: https://urllib3.readthedocs.io/en/latest/advanced-usage.html#ssl-warnings\n",
            "  InsecureRequestWarning)\n"
          ]
        },
        {
          "output_type": "stream",
          "name": "stdout",
          "text": [
            "https://weather.uwyo.edu/cgi-bin/sounding?region=seasia&TYPE=TEXT%3ALIST&YEAR=2018&MONTH=01&FROM=1400&TO=1400&STNM=47909\n"
          ]
        },
        {
          "output_type": "stream",
          "name": "stderr",
          "text": [
            "/usr/local/lib/python3.7/dist-packages/urllib3/connectionpool.py:847: InsecureRequestWarning: Unverified HTTPS request is being made. Adding certificate verification is strongly advised. See: https://urllib3.readthedocs.io/en/latest/advanced-usage.html#ssl-warnings\n",
            "  InsecureRequestWarning)\n"
          ]
        },
        {
          "output_type": "stream",
          "name": "stdout",
          "text": [
            "https://weather.uwyo.edu/cgi-bin/sounding?region=seasia&TYPE=TEXT%3ALIST&YEAR=2020&MONTH=01&FROM=0912&TO=0912&STNM=47909\n"
          ]
        },
        {
          "output_type": "stream",
          "name": "stderr",
          "text": [
            "/usr/local/lib/python3.7/dist-packages/urllib3/connectionpool.py:847: InsecureRequestWarning: Unverified HTTPS request is being made. Adding certificate verification is strongly advised. See: https://urllib3.readthedocs.io/en/latest/advanced-usage.html#ssl-warnings\n",
            "  InsecureRequestWarning)\n"
          ]
        },
        {
          "output_type": "stream",
          "name": "stdout",
          "text": [
            "https://weather.uwyo.edu/cgi-bin/sounding?region=seasia&TYPE=TEXT%3ALIST&YEAR=2018&MONTH=01&FROM=1400&TO=1400&STNM=47945\n"
          ]
        },
        {
          "output_type": "stream",
          "name": "stderr",
          "text": [
            "/usr/local/lib/python3.7/dist-packages/urllib3/connectionpool.py:847: InsecureRequestWarning: Unverified HTTPS request is being made. Adding certificate verification is strongly advised. See: https://urllib3.readthedocs.io/en/latest/advanced-usage.html#ssl-warnings\n",
            "  InsecureRequestWarning)\n"
          ]
        },
        {
          "output_type": "stream",
          "name": "stdout",
          "text": [
            "https://weather.uwyo.edu/cgi-bin/sounding?region=seasia&TYPE=TEXT%3ALIST&YEAR=2020&MONTH=01&FROM=0900&TO=0900&STNM=47945\n"
          ]
        },
        {
          "output_type": "stream",
          "name": "stderr",
          "text": [
            "/usr/local/lib/python3.7/dist-packages/urllib3/connectionpool.py:847: InsecureRequestWarning: Unverified HTTPS request is being made. Adding certificate verification is strongly advised. See: https://urllib3.readthedocs.io/en/latest/advanced-usage.html#ssl-warnings\n",
            "  InsecureRequestWarning)\n"
          ]
        },
        {
          "output_type": "stream",
          "name": "stdout",
          "text": [
            "Cloning into 'Machine-Learning-in-Atmospheric-Thermodynamics'...\n",
            "remote: Enumerating objects: 290, done.\u001b[K\n",
            "remote: Counting objects: 100% (258/258), done.\u001b[K\n",
            "remote: Compressing objects: 100% (181/181), done.\u001b[K\n",
            "remote: Total 290 (delta 85), reused 191 (delta 43), pack-reused 32\u001b[K\n",
            "Receiving objects: 100% (290/290), 177.71 MiB | 35.37 MiB/s, done.\n",
            "Resolving deltas: 100% (93/93), done.\n"
          ]
        }
      ]
    },
    {
      "cell_type": "code",
      "source": [
        "import numpy as np\n",
        "import subprocess\n",
        "import os\n",
        "\n",
        "filen='47909_20180114.txt'\n",
        "cat='cat '+filen+'| wc -l'\n",
        "nz=np.int64(subprocess.check_output(cat,shell=True))-4\n",
        "\n",
        "z = np.zeros(nz)\n",
        "t = np.zeros(nz)\n",
        "q = np.zeros(nz)\n",
        "u = np.zeros(nz)\n",
        "v = np.zeros(nz)\n",
        "\n",
        "f = open(filen,'r')\n",
        "mpf = f.readlines()\n",
        "f.close()\n",
        "\n",
        "del mpf[0:4]\n",
        "for i in range(0,nz):\n",
        "  if mpf[0][8:15]!='       ':\n",
        "    z[i] = mpf[0][8:15]\n",
        "  else:\n",
        "    z[i] = np.nan\n",
        "\n",
        "  if mpf[0][58:64]!='      ':\n",
        "    t[i] = mpf[0][58:64]\n",
        "  else:\n",
        "    t[i] = np.nan\n",
        "\n",
        "  if mpf[0][31:36]!='     ':\n",
        "    q[i] = mpf[0][31:36]\n",
        "  else:\n",
        "    q[i] = np.nan\n",
        "\n",
        "  if mpf[0][51:57]!='      ':\n",
        "    u[i] = mpf[0][51:57]\n",
        "  else:\n",
        "    u[i] = np.nan\n",
        "\n",
        "  if mpf[0][44:50]!='      ':\n",
        "    v[i] = mpf[0][44:50]\n",
        "  else:\n",
        "    v[i] = np.nan\n",
        "\n",
        "  del mpf[0]\n"
      ],
      "metadata": {
        "id": "pl24Ok5IBkAn",
        "outputId": "a34e7d8f-db8b-40a7-be54-471c55c56648",
        "colab": {
          "base_uri": "https://localhost:8080/"
        }
      },
      "execution_count": 95,
      "outputs": [
        {
          "output_type": "stream",
          "name": "stdout",
          "text": [
            "[  232.   295.   312.   842.   877.  1046.  1145.  1562.  1571.  1638.\n",
            "  1733.  1879.  1918.  1938.  2038.  2159.  2210.  2618.  3115.  3423.\n",
            "  3469.  3610.  3947.  3972.  4096.  4209.  4260.  4521.  4547.  4939.\n",
            "  5064.  5219.  5275.  5640.  5700.  5884.  5932.  6237.  7108.  7380.\n",
            "  7545.  8026.  8491.  9430.  9453.  9663. 10251. 10670. 11135. 11192.\n",
            " 11484. 12130. 12627. 13317. 13950. 14506. 15117. 16400. 16560. 16744.\n",
            " 16952. 17698. 18490. 18516. 18918. 19031. 19284. 19425. 19849. 19915.\n",
            " 20550. 20804. 20935. 21206. 21635. 21939. 22096. 22145. 22259. 22427.\n",
            " 22600. 22960. 23109. 23342. 23750. 24122. 24191. 24665. 24916. 25449.\n",
            " 26031. 26092.]\n",
            "[  nan 284.3 284.4 285.6 285.6 286.1 286.2 286.8 286.8 286.9 287.1 287.4\n",
            " 289.3 290.9 291.9 293.1 295.  296.5 298.4 299.3 299.5 300.3 302.1 302.2\n",
            " 302.9 305.4 306.6 308.1 308.2 309.4 309.7 310.3 310.6 312.6 314.1 318.7\n",
            " 319.4 323.7 324.3 325.1 325.8 327.6 330.2 331.6 331.6 331.9 338.8 340.1\n",
            " 341.4 341.6 342.4 349.1 353.8 360.2 364.6 368.5 372.6 388.2 389.3 395.9\n",
            " 398.5 407.8 435.8 435.5 455.2 456.7 460.  465.6 482.8 485.6 494.8 502.5\n",
            " 506.6 514.9 528.5 538.3 543.5 545.1 547.9 552.  556.2 565.2 569.  576.9\n",
            " 591.1 606.6 608.3 620.7 627.3 641.6 657.6 659.3]\n",
            "[nan 76. 75. 66. 65. 61. 62. 69. 69. 70. 71. 74. 43. 32. 23. 16.  5.  4.\n",
            "  3.  3.  3.  2.  2.  2.  2.  4.  5. 29. 34. 19. 36. 15. 16. 22. 29. 36.\n",
            " 35. 30. 53. 53. 55. 62. 41. 59. 60. 65. nan nan nan nan nan nan nan nan\n",
            " nan nan nan nan nan nan nan nan nan nan nan nan nan nan nan nan nan nan\n",
            " nan nan nan nan nan nan nan nan nan nan nan nan nan nan nan nan nan nan\n",
            " nan nan]\n",
            "[ nan   9.   8.  14.  14.   9.   6.   2.   2.   2.   4.   5.   5.   5.\n",
            "   6.   8.   8.  14.  12.   9.   8.  10.   6.   7.  11.  14.  14.  16.\n",
            "  17.  24.  27.  30.  31.  45.  47.  57.  60.  63.  71.  74.  78.  84.\n",
            "  90. 103. 103. 108. 122. 132. 138. 138. 136. 130. 128. 115. 103.  89.\n",
            "  86.  80.  82.  82.  82.  64.  45.  44.  32.  29.  25.  23.  23.  23.\n",
            "  19.   8.   6.  10.  12.   4.   4.   4.   4.   8.  10.   8.   8.   8.\n",
            "  12.   7.   6.   8.   4.  12.  18.  nan]\n",
            "[ nan  80.  80.  70.  75. 106. 125. 145. 140. 200. 220. 189. 180. 176.\n",
            " 155. 152. 151. 140. 180. 215. 220. 220. 265. 261. 239. 220. 223. 240.\n",
            " 240. 234. 233. 231. 230. 247. 250. 258. 260. 265. 280. 285. 280. 275.\n",
            " 270. 260. 260. 263. 270. 275. 280. 280. 280. 280. 280. 283. 285. 280.\n",
            " 277. 270. 265. 267. 270. 275. 280. 280. 288. 290. 268. 255. 245. 247.\n",
            " 270. 260. 210. 175. 195. 160.  50.  51.  55. 115. 120. 155. 129.  90.\n",
            "  90.  90.  90. 150. 120. 100.  90.  nan]\n"
          ]
        }
      ]
    },
    {
      "cell_type": "code",
      "source": [
        "import numpy as np\n",
        "import matplotlib.pyplot as plt\n",
        "\n",
        "path='Machine-Learning-in-Atmospheric-Thermodynamics/hw02-2/data/'\n",
        "dates=['20180114','20200109']\n",
        "stns=['47918','47909','47945']\n",
        "\n",
        "for stn in stns:\n",
        "  for date in dates:\n",
        "    filen=path+'/era5_'+stn+'_'+date+'.dat'\n",
        "    era5=np.fromfile(filen,dtype=np.float32).reshape(5,27)\n",
        "\n",
        "\n",
        "\n",
        "fig,ax=plt.subplots(figsize=(2,2),dpi=300)\n",
        "ax.plot(era5[1,:],era5[0,:]/1000.,'b--')\n",
        "\n",
        "ax.set_ylim([0,5.])\n",
        "ax.set_xlim([285.,325.])\n",
        "plt.xticks(ticks=np.arange(290,321,10))\n",
        "plt.xlabel('theta [K]')\n",
        "plt.ylabel('height [km]')\n",
        "plt.legend('Obs','ERA5')"
      ],
      "metadata": {
        "colab": {
          "base_uri": "https://localhost:8080/",
          "height": 704
        },
        "id": "kV3clEMRTp8-",
        "outputId": "50f7c61e-9b52-4968-e9e8-ce49ea052fe8"
      },
      "execution_count": 17,
      "outputs": [
        {
          "output_type": "execute_result",
          "data": {
            "text/plain": [
              "([<matplotlib.axis.XTick at 0x7f613f566590>,\n",
              "  <matplotlib.axis.XTick at 0x7f613f566310>,\n",
              "  <matplotlib.axis.XTick at 0x7f613f6158d0>,\n",
              "  <matplotlib.axis.XTick at 0x7f613f481510>],\n",
              " <a list of 4 Text major ticklabel objects>)"
            ]
          },
          "metadata": {},
          "execution_count": 17
        },
        {
          "output_type": "display_data",
          "data": {
            "text/plain": [
              "<Figure size 600x600 with 1 Axes>"
            ],
            "image/png": "[encoded data removed]"
          },
          "metadata": {
            "needs_background": "light"
          }
        }
      ]
    }
  ]
}