{
  "nbformat": 4,
  "nbformat_minor": 0,
  "metadata": {
    "colab": {
      "provenance": [],
      "authorship_tag": "ABX9TyPN/ygb39uuBS+RfUVycP36",
      "include_colab_link": true
    },
    "kernelspec": {
      "name": "python3",
      "display_name": "Python 3"
    },
    "language_info": {
      "name": "python"
    },
    "accelerator": "GPU"
  },
  "cells": [
    {
      "cell_type": "markdown",
      "metadata": {
        "id": "view-in-github",
        "colab_type": "text"
      },
      "source": [
        "<a href=\"https://colab.research.google.com/github/HuangJin-De/Machine-Learning-in-Atmospheric-Thermodynamics/blob/master/final/final.ipynb\" target=\"_parent\"><img src=\"https://colab.research.google.com/assets/colab-badge.svg\" alt=\"Open In Colab\"/></a>"
      ]
    },
    {
      "cell_type": "code",
      "source": [
        "! rm -rf Machine-Learning-in-Atmospheric-Thermodynamics\n",
        "! git clone https://github.com/HuangJin-De/Machine-Learning-in-Atmospheric-Thermodynamics.git"
      ],
      "metadata": {
        "id": "x9hcwec3GK_D",
        "colab": {
          "base_uri": "https://localhost:8080/"
        },
        "outputId": "0f2b92d6-e0fe-48ab-933d-e7320245a05a"
      },
      "execution_count": 2,
      "outputs": [
        {
          "output_type": "stream",
          "name": "stdout",
          "text": [
            "Cloning into 'Machine-Learning-in-Atmospheric-Thermodynamics'...\n",
            "remote: Enumerating objects: 691, done.\u001b[K\n",
            "remote: Counting objects: 100% (261/261), done.\u001b[K\n",
            "remote: Compressing objects: 100% (138/138), done.\u001b[K\n",
            "remote: Total 691 (delta 129), reused 242 (delta 118), pack-reused 430\u001b[K\n",
            "Receiving objects: 100% (691/691), 249.37 MiB | 16.66 MiB/s, done.\n",
            "Resolving deltas: 100% (287/287), done.\n"
          ]
        }
      ]
    },
    {
      "cell_type": "code",
      "source": [
        "import numpy as np\n",
        "import matplotlib.pyplot as plt\n",
        "\n",
        "path='Machine-Learning-in-Atmospheric-Thermodynamics/final/'\n",
        "filen=path+'/data/inver_data.dat'\n",
        "\n",
        "nz=101\n",
        "nvar=3\n",
        "data=np.fromfile(filen,dtype=np.float32)\n",
        "data=data.reshape(-1,2,nvar,nz)\n",
        "ind=np.arange(data.shape[0])\n",
        "np.random.shuffle(ind)\n",
        "data=data[ind,:,:,:]\n",
        "\n",
        "#print(data.shape)\n",
        "\n",
        "temp=np.zeros([data.shape[0],99])\n",
        "inver_era=np.argmax(data[:,0,2,0:99],1)\n",
        "indx=np.arange(temp.shape[0])\n",
        "indy=inver_era\n",
        "temp[indx,indy]=1\n",
        "temp[:,0]=0\n",
        "mask_era=np.copy(temp)\n",
        "\n",
        "#print(np.sum(mask_era,0),np.sum(mask_era))\n",
        "#print(np.sum(mask_era))\n",
        "\n",
        "temp=np.zeros([data.shape[0],99])\n",
        "inver_snd=np.argmax(data[:,1,2,0:99],1)\n",
        "indx=np.arange(temp.shape[0])\n",
        "indy=inver_snd\n",
        "temp[indx,indy]=1\n",
        "temp[:,0]=0\n",
        "mask_snd=np.copy(temp)\n"
      ],
      "metadata": {
        "id": "db87xJTv8Gxm"
      },
      "execution_count": 3,
      "outputs": []
    }
  ]
}