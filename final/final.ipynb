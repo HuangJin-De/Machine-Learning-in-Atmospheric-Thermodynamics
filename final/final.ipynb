{
  "nbformat": 4,
  "nbformat_minor": 0,
  "metadata": {
    "colab": {
      "provenance": [],
      "authorship_tag": "ABX9TyNuIyQIT6ZXmoMfOP/7B7fX",
      "include_colab_link": true
    },
    "kernelspec": {
      "name": "python3",
      "display_name": "Python 3"
    },
    "language_info": {
      "name": "python"
    },
    "accelerator": "GPU"
  },
  "cells": [
    {
      "cell_type": "markdown",
      "metadata": {
        "id": "view-in-github",
        "colab_type": "text"
      },
      "source": [
        "<a href=\"https://colab.research.google.com/github/HuangJin-De/Machine-Learning-in-Atmospheric-Thermodynamics/blob/master/final/final.ipynb\" target=\"_parent\"><img src=\"https://colab.research.google.com/assets/colab-badge.svg\" alt=\"Open In Colab\"/></a>"
      ]
    },
    {
      "cell_type": "code",
      "source": [
        "! rm -rf Machine-Learning-in-Atmospheric-Thermodynamics\n",
        "! git clone https://github.com/HuangJin-De/Machine-Learning-in-Atmospheric-Thermodynamics.git"
      ],
      "metadata": {
        "id": "x9hcwec3GK_D",
        "colab": {
          "base_uri": "https://localhost:8080/"
        },
        "outputId": "5df8e4e9-cd08-4ded-8645-e1492940fe45"
      },
      "execution_count": 1,
      "outputs": [
        {
          "output_type": "stream",
          "name": "stdout",
          "text": [
            "Cloning into 'Machine-Learning-in-Atmospheric-Thermodynamics'...\n",
            "remote: Enumerating objects: 699, done.\u001b[K\n",
            "remote: Counting objects: 100% (269/269), done.\u001b[K\n",
            "remote: Compressing objects: 100% (146/146), done.\u001b[K\n",
            "remote: Total 699 (delta 133), reused 242 (delta 118), pack-reused 430\u001b[K\n",
            "Receiving objects: 100% (699/699), 249.38 MiB | 41.35 MiB/s, done.\n",
            "Resolving deltas: 100% (291/291), done.\n",
            "Checking out files: 100% (100/100), done.\n"
          ]
        }
      ]
    },
    {
      "cell_type": "code",
      "source": [
        "import numpy as np\n",
        "import matplotlib.pyplot as plt\n",
        "from sklearn.preprocessing import StandardScaler, MinMaxScaler  \n",
        "from sklearn.model_selection import train_test_split\n",
        "\n",
        "path='Machine-Learning-in-Atmospheric-Thermodynamics/final/'\n",
        "filen=path+'/data/inver_data.dat'\n",
        "\n",
        "nz=101\n",
        "nvar=3\n",
        "data=np.fromfile(filen,dtype=np.float32)\n",
        "data=data.reshape(-1,2,nvar,nz)\n",
        "inv=np.argmax(np.copy(data[:,:,2,0:99]).reshape(-1,1,nz-2),2)\n",
        "y=np.where(inv<=0,0,1)\n",
        "x=np.copy(data[:,:,0:2,0:int(nz/2)]).reshape(-1,nvar-1,int(nz/2))\n",
        "\n",
        "print(x.shape,y.shape)\n",
        "\n",
        "x_train,x_test,y_train,y_test=train_test_split(x,y,test_size=0.2,random_state=1)\n",
        "\n",
        "label_unique, counts=np.unique(y_train,return_counts=True)\n",
        "print(label_unique, counts)\n",
        "weight=[sum(counts)/c for c in counts]\n",
        "print(weight)\n",
        "\n",
        "scaler=[]\n",
        "scaler.append(MinMaxScaler())\n",
        "scaler.append(MinMaxScaler())\n",
        "\n",
        "for i in range(0,2):\n",
        "  x_train[:,i,:]=scaler[i].fit_transform(x_train[:,i,:])\n",
        "  x_test[:,i,:]=scaler[i].transform(x_test[:,i,:])\n",
        "\n",
        "x_train=x_train.reshape(-1,int(nz/2)*2)\n",
        "x_test=x_test.reshape(-1,int(nz/2)*2)\n",
        "\n",
        "print('finished')"
      ],
      "metadata": {
        "id": "db87xJTv8Gxm",
        "outputId": "9725e498-63aa-4117-e00e-183fbc8dc638",
        "colab": {
          "base_uri": "https://localhost:8080/"
        }
      },
      "execution_count": 27,
      "outputs": [
        {
          "output_type": "stream",
          "name": "stdout",
          "text": [
            "(18834, 2, 50) (18834, 1)\n",
            "[0 1] [11812  3255]\n",
            "[1.2755672197764985, 4.628878648233487]\n",
            "finished\n"
          ]
        }
      ]
    },
    {
      "cell_type": "code",
      "source": [
        "import torch\n",
        "from torch.utils.data import Dataset, DataLoader, WeightedRandomSampler\n",
        "\n",
        "class TrainData(Dataset):\n",
        "    \n",
        "    def __init__(self, x_data, y_data):\n",
        "        self.x_data = x_data\n",
        "        self.y_data = y_data\n",
        "        \n",
        "    def __getitem__(self, index):\n",
        "        return self.x_data[index], self.y_data[index]\n",
        "        \n",
        "    def __len__ (self):\n",
        "        return len(self.x_data)\n",
        "\n",
        "train_data=TrainData(torch.FloatTensor(x_train),torch.FloatTensor(y_train))\n",
        "test_data=TrainData(torch.FloatTensor(x_test),torch.FloatTensor(y_test))\n",
        "\n",
        "BATCH_SIZE=64\n",
        "weight_train=[weight[k] for k in y_train.reshape(-1).astype(int)]\n",
        "sampler_train=WeightedRandomSampler(weight_train,len(y_train))\n",
        "train_loader=DataLoader(dataset=train_data,sampler=sampler_train,batch_size=BATCH_SIZE)\n",
        "\n",
        "weight_test=[weight[k] for k in y_test.reshape(-1).astype(int)]\n",
        "sampler_test=WeightedRandomSampler(weight_test,len(y_test))\n",
        "test_loader=DataLoader(dataset=test_data,sampler=sampler_test,batch_size=BATCH_SIZE)\n",
        "\n",
        "\n",
        "print('finished')"
      ],
      "metadata": {
        "id": "emcAOj4r5wjN",
        "outputId": "9597bc4c-bd89-4505-d30d-5b63164538c3",
        "colab": {
          "base_uri": "https://localhost:8080/"
        }
      },
      "execution_count": 28,
      "outputs": [
        {
          "output_type": "stream",
          "name": "stdout",
          "text": [
            "finished\n"
          ]
        }
      ]
    },
    {
      "cell_type": "code",
      "source": [
        "from torch import nn\n",
        "from torchvision.transforms import ToTensor, Lambda, Compose\n",
        "import time\n",
        "\n",
        "class BinaryClassification(nn.Module):\n",
        "  def __init__(self):\n",
        "    super(BinaryClassification, self).__init__()\n",
        "    self.BC = nn.Sequential(\n",
        "      nn.Linear(100, 256),   \n",
        "      nn.ReLU(),     \n",
        "      nn.BatchNorm1d(256),   \n",
        "      nn.Linear(256, 192),\n",
        "      nn.ReLU(),\n",
        "      nn.BatchNorm1d(192),\n",
        "      nn.Dropout(p=0.1),\n",
        "      nn.Linear(192, 1)\n",
        "    )\n",
        "\n",
        "  def forward(self, x):\n",
        "    freq = self.BC(x)\n",
        "    binary = freq #torch.round(freq)\n",
        "    return binary\n",
        "\n",
        "print('defined model')"
      ],
      "metadata": {
        "id": "YzItfo1O6AOl",
        "outputId": "54a5c03d-c450-49ae-a0f4-caaa45abad80",
        "colab": {
          "base_uri": "https://localhost:8080/"
        }
      },
      "execution_count": 30,
      "outputs": [
        {
          "output_type": "stream",
          "name": "stdout",
          "text": [
            "defined model\n"
          ]
        }
      ]
    },
    {
      "cell_type": "code",
      "source": [
        "device = \"cuda\" if torch.cuda.is_available() else \"cpu\"\n",
        "\n",
        "model = BinaryClassification().to(device)\n",
        "\n",
        "loss_fn = nn.BCEWithLogitsLoss()\n",
        "optimizer = torch.optim.Adam(model.parameters(), lr=1e-6)\n",
        "\n",
        "def train(dataloader, model, loss_fn, optimizer):\n",
        "    size = len(dataloader.dataset)\n",
        "    num_batches = len(dataloader)\n",
        "\n",
        "    model.train()\n",
        "    train_loss=0\n",
        "\n",
        "    for batch, (X, y) in enumerate(dataloader):\n",
        "        X, y = X.to(device), y.to(device)\n",
        "\n",
        "        pred = model(X)  \n",
        "        loss = loss_fn(pred, y) \n",
        "        train_loss += loss.item()\n",
        "\n",
        "        optimizer.zero_grad()  \n",
        "        loss.backward()      \n",
        "        optimizer.step()      \n",
        "       \n",
        "        #if batch % 100 == 0:\n",
        "        #    loss, current = loss.item(), batch * len(X)\n",
        "        #    print(f\"loss: {loss:>7f}  [{current:>5d}/{size:>5d}]\")\n",
        "\n",
        "    train_loss /= num_batches\n",
        "    return train_loss\n",
        "\n",
        "def test(dataloader, model, loss_fn):\n",
        "    size = len(dataloader.dataset)\n",
        "\n",
        "    num_batches = len(dataloader)\n",
        "    model.eval()\n",
        "    test_loss, correct = 0, 0\n",
        "\n",
        "    with torch.no_grad(): \n",
        "        for X, y in dataloader:\n",
        "            X, y = X.to(device), y.to(device)\n",
        "\n",
        "            pred = model(X)\n",
        "            test_loss += loss_fn(pred, y).item()\n",
        "            correct += (torch.round(torch.sigmoid(pred))==y).sum().float()\n",
        "\n",
        "    test_loss /= num_batches\n",
        "    correct /= size\n",
        "    correct = correct.to(\"cpu\")\n",
        "    print(f\"Accuracy: {(100*correct):>0.1f}%, Avg loss: {test_loss:>8f}\")\n",
        "    return test_loss,correct\n",
        "\n",
        "# training start\n",
        "epochs=50\n",
        "\n",
        "tt=time.time()\n",
        "train_loss=[]\n",
        "test_loss=[]\n",
        "test_acc=[]\n",
        "for t in range(epochs):\n",
        "    print(f\"Epoch {t+1}-------------------------------\")\n",
        "    loss = train(train_loader, model, loss_fn, optimizer)\n",
        "    train_loss.append(loss)\n",
        "    loss,acc = test(test_loader, model, loss_fn)\n",
        "    test_loss.append(loss)\n",
        "    test_acc.append(acc*100.)\n",
        "\n",
        "elapse=time.time()-tt\n",
        "print(elapse)\n",
        "\n",
        "torch.save(model.state_dict(),'model.pkl')"
      ],
      "metadata": {
        "id": "Z-jG4M_l6UKD",
        "outputId": "c2d1f7f4-a1cf-477e-f496-aba1ce775507",
        "colab": {
          "base_uri": "https://localhost:8080/"
        }
      },
      "execution_count": 51,
      "outputs": [
        {
          "output_type": "stream",
          "name": "stdout",
          "text": [
            "Epoch 1-------------------------------\n",
            "Accuracy: 63.4%, Avg loss: 0.669992\n",
            "Epoch 2-------------------------------\n",
            "Accuracy: 73.2%, Avg loss: 0.597782\n",
            "Epoch 3-------------------------------\n",
            "Accuracy: 77.7%, Avg loss: 0.540767\n",
            "Epoch 4-------------------------------\n",
            "Accuracy: 79.7%, Avg loss: 0.503128\n",
            "Epoch 5-------------------------------\n",
            "Accuracy: 80.6%, Avg loss: 0.479107\n",
            "Epoch 6-------------------------------\n",
            "Accuracy: 81.0%, Avg loss: 0.450529\n",
            "Epoch 7-------------------------------\n",
            "Accuracy: 82.2%, Avg loss: 0.435845\n",
            "Epoch 8-------------------------------\n",
            "Accuracy: 82.8%, Avg loss: 0.414430\n",
            "Epoch 9-------------------------------\n",
            "Accuracy: 85.1%, Avg loss: 0.389123\n",
            "Epoch 10-------------------------------\n",
            "Accuracy: 84.0%, Avg loss: 0.394423\n",
            "Epoch 11-------------------------------\n",
            "Accuracy: 84.7%, Avg loss: 0.385965\n",
            "Epoch 12-------------------------------\n",
            "Accuracy: 84.9%, Avg loss: 0.374763\n",
            "Epoch 13-------------------------------\n",
            "Accuracy: 86.0%, Avg loss: 0.363417\n",
            "Epoch 14-------------------------------\n",
            "Accuracy: 85.1%, Avg loss: 0.362605\n",
            "Epoch 15-------------------------------\n",
            "Accuracy: 85.9%, Avg loss: 0.347484\n",
            "Epoch 16-------------------------------\n",
            "Accuracy: 85.5%, Avg loss: 0.358799\n",
            "Epoch 17-------------------------------\n",
            "Accuracy: 86.1%, Avg loss: 0.341763\n",
            "Epoch 18-------------------------------\n",
            "Accuracy: 86.2%, Avg loss: 0.344873\n",
            "Epoch 19-------------------------------\n",
            "Accuracy: 85.7%, Avg loss: 0.351104\n",
            "Epoch 20-------------------------------\n",
            "Accuracy: 87.3%, Avg loss: 0.331454\n",
            "Epoch 21-------------------------------\n",
            "Accuracy: 86.2%, Avg loss: 0.338472\n",
            "Epoch 22-------------------------------\n",
            "Accuracy: 86.7%, Avg loss: 0.333689\n",
            "Epoch 23-------------------------------\n",
            "Accuracy: 85.9%, Avg loss: 0.326951\n",
            "Epoch 24-------------------------------\n",
            "Accuracy: 87.7%, Avg loss: 0.320496\n",
            "Epoch 25-------------------------------\n",
            "Accuracy: 87.2%, Avg loss: 0.320239\n",
            "Epoch 26-------------------------------\n",
            "Accuracy: 86.1%, Avg loss: 0.322563\n",
            "Epoch 27-------------------------------\n",
            "Accuracy: 87.3%, Avg loss: 0.310405\n",
            "Epoch 28-------------------------------\n",
            "Accuracy: 87.4%, Avg loss: 0.311167\n",
            "Epoch 29-------------------------------\n",
            "Accuracy: 86.1%, Avg loss: 0.334910\n",
            "Epoch 30-------------------------------\n",
            "Accuracy: 88.0%, Avg loss: 0.311222\n",
            "Epoch 31-------------------------------\n",
            "Accuracy: 85.7%, Avg loss: 0.335292\n",
            "Epoch 32-------------------------------\n",
            "Accuracy: 87.9%, Avg loss: 0.298118\n",
            "Epoch 33-------------------------------\n",
            "Accuracy: 86.3%, Avg loss: 0.327516\n",
            "Epoch 34-------------------------------\n",
            "Accuracy: 86.0%, Avg loss: 0.332620\n",
            "Epoch 35-------------------------------\n",
            "Accuracy: 86.3%, Avg loss: 0.324704\n",
            "Epoch 36-------------------------------\n",
            "Accuracy: 87.0%, Avg loss: 0.307267\n",
            "Epoch 37-------------------------------\n",
            "Accuracy: 88.3%, Avg loss: 0.300059\n",
            "Epoch 38-------------------------------\n",
            "Accuracy: 88.1%, Avg loss: 0.301189\n",
            "Epoch 39-------------------------------\n",
            "Accuracy: 87.7%, Avg loss: 0.308649\n",
            "Epoch 40-------------------------------\n",
            "Accuracy: 88.0%, Avg loss: 0.292033\n",
            "Epoch 41-------------------------------\n",
            "Accuracy: 87.1%, Avg loss: 0.309653\n",
            "Epoch 42-------------------------------\n",
            "Accuracy: 88.1%, Avg loss: 0.289599\n",
            "Epoch 43-------------------------------\n",
            "Accuracy: 86.5%, Avg loss: 0.318265\n",
            "Epoch 44-------------------------------\n",
            "Accuracy: 87.1%, Avg loss: 0.308589\n",
            "Epoch 45-------------------------------\n",
            "Accuracy: 87.3%, Avg loss: 0.307041\n",
            "Epoch 46-------------------------------\n",
            "Accuracy: 87.9%, Avg loss: 0.299110\n",
            "Epoch 47-------------------------------\n",
            "Accuracy: 88.4%, Avg loss: 0.288225\n",
            "Epoch 48-------------------------------\n",
            "Accuracy: 87.6%, Avg loss: 0.308820\n",
            "Epoch 49-------------------------------\n",
            "Accuracy: 87.6%, Avg loss: 0.301417\n",
            "Epoch 50-------------------------------\n",
            "Accuracy: 87.1%, Avg loss: 0.301788\n",
            "35.25505018234253\n"
          ]
        }
      ]
    },
    {
      "cell_type": "code",
      "source": [
        "fig,ax=plt.subplots(figsize=(2,2),dpi=300)\n",
        "ax.plot(np.arange(1,epochs+1),train_loss,'b',np.arange(1,epochs+1),test_loss,'r')\n",
        "ax.tick_params(labelsize=5)\n",
        "plt.legend([\"training loss\",\"test loss\"],fontsize=5,loc=7)\n",
        "ax2=ax.twinx()\n",
        "ax2.plot(np.arange(1,epochs+1),test_acc,'c')\n",
        "ax2.set_ylim([0,100])\n",
        "ax2.set_yticks(np.arange(50,101,10))\n",
        "color='tab:cyan'\n",
        "ax2.tick_params(axis='y',labelcolor=color,labelsize=5)\n",
        "plt.legend([\"Accuracy\"],fontsize=5,loc=1)\n"
      ],
      "metadata": {
        "id": "ap1VCtB-7Smr",
        "outputId": "b881e1b1-37dd-450d-c722-3bb7cdc902e5",
        "colab": {
          "base_uri": "https://localhost:8080/",
          "height": 595
        }
      },
      "execution_count": 64,
      "outputs": [
        {
          "output_type": "execute_result",
          "data": {
            "text/plain": [
              "<matplotlib.legend.Legend at 0x7f91f253aa90>"
            ]
          },
          "metadata": {},
          "execution_count": 64
        },
        {
          "output_type": "display_data",
          "data": {
            "text/plain": [
              "<Figure size 600x600 with 2 Axes>"
            ],
            "image/png": "[encoded data removed]"
          },
          "metadata": {}
        }
      ]
    }
  ]
}